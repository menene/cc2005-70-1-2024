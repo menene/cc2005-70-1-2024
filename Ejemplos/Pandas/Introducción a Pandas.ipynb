{
 "cells": [
  {
   "cell_type": "markdown",
   "id": "0140277c-c849-4702-bc22-8984004c55ed",
   "metadata": {},
   "source": [
    "# Pandas"
   ]
  },
  {
   "cell_type": "code",
   "execution_count": 1,
   "id": "ddbeb908-fe1b-44c4-9844-a27a5e1521b7",
   "metadata": {},
   "outputs": [],
   "source": [
    "import pandas as pd"
   ]
  },
  {
   "cell_type": "markdown",
   "id": "df56c496-a0cd-4827-af62-a1f71841ed9d",
   "metadata": {},
   "source": [
    "Crear un data frame es muy parecido a crear un diccionario"
   ]
  },
  {
   "cell_type": "code",
   "execution_count": 18,
   "id": "37e474be-88b8-4bcd-8c14-8e3d6984294a",
   "metadata": {},
   "outputs": [],
   "source": [
    "df = pd.DataFrame({\n",
    "    \"Carnet\": [123, 456, 789, 987, 654],\n",
    "    \"Hoja de trabajo 1\": [80, 85, 75, 40, 100],\n",
    "    \"Hoja de trabajo 2\": [90, 90, 75, 61, 100],\n",
    "    \"Hoja de trabajo 3\": [80, 80, 0, 50, 85],\n",
    "})"
   ]
  },
  {
   "cell_type": "markdown",
   "id": "ebd770ab-f024-44ad-9e6b-b04166578ae6",
   "metadata": {},
   "source": [
    "Imprimir un data muestra de forma ordenada la información."
   ]
  },
  {
   "cell_type": "code",
   "execution_count": 3,
   "id": "05f3d949-9ab6-48be-a599-1a8ef7919753",
   "metadata": {},
   "outputs": [
    {
     "name": "stdout",
     "output_type": "stream",
     "text": [
      "   Carnet  Hoja de trabajo 1  Hoja de trabajo 2  Hoja de trabajo 3\n",
      "0     123                 80                 90                 80\n",
      "1     456                 85                 90                 80\n",
      "2     789                 75                 75                  0\n",
      "3     987                 40                 61                 50\n",
      "4     654                  0                100                 85\n"
     ]
    }
   ],
   "source": [
    "print(df)"
   ]
  },
  {
   "cell_type": "markdown",
   "id": "4f16eb40-f3e0-4e52-a317-f10789319dd4",
   "metadata": {},
   "source": [
    "Tabmbién es posible ver la información en formato tabla pero esto solo es posible en Jupyter Notebooks"
   ]
  },
  {
   "cell_type": "code",
   "execution_count": 4,
   "id": "7d54d829-8a27-4ca5-aa01-94d9f82987e0",
   "metadata": {},
   "outputs": [
    {
     "data": {
      "text/html": [
       "<div>\n",
       "<style scoped>\n",
       "    .dataframe tbody tr th:only-of-type {\n",
       "        vertical-align: middle;\n",
       "    }\n",
       "\n",
       "    .dataframe tbody tr th {\n",
       "        vertical-align: top;\n",
       "    }\n",
       "\n",
       "    .dataframe thead th {\n",
       "        text-align: right;\n",
       "    }\n",
       "</style>\n",
       "<table border=\"1\" class=\"dataframe\">\n",
       "  <thead>\n",
       "    <tr style=\"text-align: right;\">\n",
       "      <th></th>\n",
       "      <th>Carnet</th>\n",
       "      <th>Hoja de trabajo 1</th>\n",
       "      <th>Hoja de trabajo 2</th>\n",
       "      <th>Hoja de trabajo 3</th>\n",
       "    </tr>\n",
       "  </thead>\n",
       "  <tbody>\n",
       "    <tr>\n",
       "      <th>0</th>\n",
       "      <td>123</td>\n",
       "      <td>80</td>\n",
       "      <td>90</td>\n",
       "      <td>80</td>\n",
       "    </tr>\n",
       "    <tr>\n",
       "      <th>1</th>\n",
       "      <td>456</td>\n",
       "      <td>85</td>\n",
       "      <td>90</td>\n",
       "      <td>80</td>\n",
       "    </tr>\n",
       "    <tr>\n",
       "      <th>2</th>\n",
       "      <td>789</td>\n",
       "      <td>75</td>\n",
       "      <td>75</td>\n",
       "      <td>0</td>\n",
       "    </tr>\n",
       "    <tr>\n",
       "      <th>3</th>\n",
       "      <td>987</td>\n",
       "      <td>40</td>\n",
       "      <td>61</td>\n",
       "      <td>50</td>\n",
       "    </tr>\n",
       "    <tr>\n",
       "      <th>4</th>\n",
       "      <td>654</td>\n",
       "      <td>0</td>\n",
       "      <td>100</td>\n",
       "      <td>85</td>\n",
       "    </tr>\n",
       "  </tbody>\n",
       "</table>\n",
       "</div>"
      ],
      "text/plain": [
       "   Carnet  Hoja de trabajo 1  Hoja de trabajo 2  Hoja de trabajo 3\n",
       "0     123                 80                 90                 80\n",
       "1     456                 85                 90                 80\n",
       "2     789                 75                 75                  0\n",
       "3     987                 40                 61                 50\n",
       "4     654                  0                100                 85"
      ]
     },
     "execution_count": 4,
     "metadata": {},
     "output_type": "execute_result"
    }
   ],
   "source": [
    "df"
   ]
  },
  {
   "cell_type": "markdown",
   "id": "51c49e7b-817f-4fc0-b58e-27b25f85afd2",
   "metadata": {},
   "source": [
    "## Instrucciones básicas\n",
    "\n",
    "La forma del data frame nos da información sobre la cantidad de imformación que este tiene"
   ]
  },
  {
   "cell_type": "code",
   "execution_count": 5,
   "id": "cbcb93ba-80d6-4e7f-b876-f0b40d90538c",
   "metadata": {},
   "outputs": [
    {
     "name": "stdout",
     "output_type": "stream",
     "text": [
      "(5, 4)\n"
     ]
    }
   ],
   "source": [
    "print(df.shape)"
   ]
  },
  {
   "cell_type": "markdown",
   "id": "2befa57a-85ed-4b62-bbf3-7629fdbe3d47",
   "metadata": {},
   "source": [
    "Si se requiere estadistica básica es posible utilizar la función describe"
   ]
  },
  {
   "cell_type": "code",
   "execution_count": 6,
   "id": "9a9a43b2-0b6c-4bac-8368-9ee25e57513d",
   "metadata": {},
   "outputs": [
    {
     "name": "stdout",
     "output_type": "stream",
     "text": [
      "           Carnet  Hoja de trabajo 1  Hoja de trabajo 2  Hoja de trabajo 3\n",
      "count    5.000000           5.000000            5.00000           5.000000\n",
      "mean   601.800000          56.000000           83.20000          59.000000\n",
      "std    330.399304          35.951356           15.28725          35.777088\n",
      "min    123.000000           0.000000           61.00000           0.000000\n",
      "25%    456.000000          40.000000           75.00000          50.000000\n",
      "50%    654.000000          75.000000           90.00000          80.000000\n",
      "75%    789.000000          80.000000           90.00000          80.000000\n",
      "max    987.000000          85.000000          100.00000          85.000000\n"
     ]
    }
   ],
   "source": [
    "print(df.describe())"
   ]
  },
  {
   "cell_type": "markdown",
   "id": "f1a4f2ac-cffa-421b-883b-7a177e614030",
   "metadata": {},
   "source": [
    "Es posible sacar estadística de forma más específica:"
   ]
  },
  {
   "cell_type": "code",
   "execution_count": 7,
   "id": "d30358a8-0a3d-4616-8ed3-d49c7f25f6de",
   "metadata": {},
   "outputs": [
    {
     "name": "stdout",
     "output_type": "stream",
     "text": [
      "Carnet               601.8\n",
      "Hoja de trabajo 1     56.0\n",
      "Hoja de trabajo 2     83.2\n",
      "Hoja de trabajo 3     59.0\n",
      "dtype: float64\n"
     ]
    }
   ],
   "source": [
    "print(df.mean())"
   ]
  },
  {
   "cell_type": "code",
   "execution_count": 8,
   "id": "ff560829-f018-4dde-b999-5b1d01fbc577",
   "metadata": {},
   "outputs": [
    {
     "name": "stdout",
     "output_type": "stream",
     "text": [
      "Carnet               5\n",
      "Hoja de trabajo 1    5\n",
      "Hoja de trabajo 2    5\n",
      "Hoja de trabajo 3    5\n",
      "dtype: int64\n"
     ]
    }
   ],
   "source": [
    "print(df.count())"
   ]
  },
  {
   "cell_type": "code",
   "execution_count": 9,
   "id": "ae26176a-97b3-4084-9551-b6ac60d3d00d",
   "metadata": {},
   "outputs": [
    {
     "name": "stdout",
     "output_type": "stream",
     "text": [
      "Carnet               987\n",
      "Hoja de trabajo 1     85\n",
      "Hoja de trabajo 2    100\n",
      "Hoja de trabajo 3     85\n",
      "dtype: int64\n"
     ]
    }
   ],
   "source": [
    "print(df.max())"
   ]
  },
  {
   "cell_type": "code",
   "execution_count": 10,
   "id": "b8f0609f-f512-4361-a38c-cbe7600177af",
   "metadata": {},
   "outputs": [
    {
     "name": "stdout",
     "output_type": "stream",
     "text": [
      "Carnet               123\n",
      "Hoja de trabajo 1      0\n",
      "Hoja de trabajo 2     61\n",
      "Hoja de trabajo 3      0\n",
      "dtype: int64\n"
     ]
    }
   ],
   "source": [
    "print(df.min())"
   ]
  },
  {
   "cell_type": "code",
   "execution_count": 11,
   "id": "a128d136-76bb-46fa-8f8b-1fa31b1f88fb",
   "metadata": {},
   "outputs": [
    {
     "name": "stdout",
     "output_type": "stream",
     "text": [
      "Carnet               330.399304\n",
      "Hoja de trabajo 1     35.951356\n",
      "Hoja de trabajo 2     15.287250\n",
      "Hoja de trabajo 3     35.777088\n",
      "dtype: float64\n"
     ]
    }
   ],
   "source": [
    "print(df.std())"
   ]
  },
  {
   "cell_type": "code",
   "execution_count": 12,
   "id": "68f597ee-1099-4951-9294-b78679b89178",
   "metadata": {},
   "outputs": [
    {
     "name": "stdout",
     "output_type": "stream",
     "text": [
      "0    80\n",
      "1    85\n",
      "2    75\n",
      "3    40\n",
      "4     0\n",
      "Name: Hoja de trabajo 1, dtype: int64\n"
     ]
    }
   ],
   "source": [
    "print(df[\"Hoja de trabajo 1\"])"
   ]
  },
  {
   "cell_type": "code",
   "execution_count": 13,
   "id": "e192b2bc-9bb8-4acd-b2e2-54812cd5b783",
   "metadata": {},
   "outputs": [
    {
     "name": "stdout",
     "output_type": "stream",
     "text": [
      "56.0\n"
     ]
    }
   ],
   "source": [
    "print(df[\"Hoja de trabajo 1\"].mean())"
   ]
  },
  {
   "cell_type": "markdown",
   "id": "81c2f4b9-7cd1-4efb-b485-73a07add93e8",
   "metadata": {},
   "source": [
    "También es posible generar sub data frames con ciertas columnas"
   ]
  },
  {
   "cell_type": "code",
   "execution_count": 14,
   "id": "9fb51788-0989-47d3-b8b7-ffeb92330795",
   "metadata": {},
   "outputs": [
    {
     "name": "stdout",
     "output_type": "stream",
     "text": [
      "   Hoja de trabajo 1  Hoja de trabajo 3\n",
      "0                 80                 80\n",
      "1                 85                 80\n",
      "2                 75                  0\n",
      "3                 40                 50\n",
      "4                  0                 85\n",
      "(5, 2)\n"
     ]
    }
   ],
   "source": [
    "df2 = df[[\"Hoja de trabajo 1\", \"Hoja de trabajo 3\"]]\n",
    "\n",
    "print(df2)\n",
    "\n",
    "print(df2.shape)"
   ]
  },
  {
   "cell_type": "markdown",
   "id": "4050d694-e647-4eb0-a4a4-58f67ce5082c",
   "metadata": {},
   "source": [
    "Si se requiere obtener un valor específico es posible hacerlo:"
   ]
  },
  {
   "cell_type": "code",
   "execution_count": 15,
   "id": "03982be5-c912-4c69-9431-bf9c4a2bdb19",
   "metadata": {},
   "outputs": [
    {
     "name": "stdout",
     "output_type": "stream",
     "text": [
      "80\n"
     ]
    }
   ],
   "source": [
    "valor = df[\"Hoja de trabajo 1\"][0]\n",
    "\n",
    "print(valor)"
   ]
  },
  {
   "cell_type": "markdown",
   "id": "bed0f874-7f45-4dae-aeb3-ec8325e24534",
   "metadata": {},
   "source": [
    "## Busqueda de información\n",
    "\n",
    "Poder acceder a información específica es uno de los poderes más grandes de Pandas. Para lograr esto se puede utilizar LOC ya que permite acceder a un grupo de filas y columnas usando etiquetas."
   ]
  },
  {
   "cell_type": "code",
   "execution_count": 16,
   "id": "cc4d30b6-2e6d-48f4-89c9-eb40d3cae6cc",
   "metadata": {},
   "outputs": [
    {
     "data": {
      "text/html": [
       "<div>\n",
       "<style scoped>\n",
       "    .dataframe tbody tr th:only-of-type {\n",
       "        vertical-align: middle;\n",
       "    }\n",
       "\n",
       "    .dataframe tbody tr th {\n",
       "        vertical-align: top;\n",
       "    }\n",
       "\n",
       "    .dataframe thead th {\n",
       "        text-align: right;\n",
       "    }\n",
       "</style>\n",
       "<table border=\"1\" class=\"dataframe\">\n",
       "  <thead>\n",
       "    <tr style=\"text-align: right;\">\n",
       "      <th></th>\n",
       "      <th>Carnet</th>\n",
       "      <th>Hoja de trabajo 1</th>\n",
       "      <th>Hoja de trabajo 2</th>\n",
       "      <th>Hoja de trabajo 3</th>\n",
       "    </tr>\n",
       "  </thead>\n",
       "  <tbody>\n",
       "    <tr>\n",
       "      <th>0</th>\n",
       "      <td>123</td>\n",
       "      <td>80</td>\n",
       "      <td>90</td>\n",
       "      <td>80</td>\n",
       "    </tr>\n",
       "    <tr>\n",
       "      <th>1</th>\n",
       "      <td>456</td>\n",
       "      <td>85</td>\n",
       "      <td>90</td>\n",
       "      <td>80</td>\n",
       "    </tr>\n",
       "    <tr>\n",
       "      <th>2</th>\n",
       "      <td>789</td>\n",
       "      <td>75</td>\n",
       "      <td>75</td>\n",
       "      <td>0</td>\n",
       "    </tr>\n",
       "  </tbody>\n",
       "</table>\n",
       "</div>"
      ],
      "text/plain": [
       "   Carnet  Hoja de trabajo 1  Hoja de trabajo 2  Hoja de trabajo 3\n",
       "0     123                 80                 90                 80\n",
       "1     456                 85                 90                 80\n",
       "2     789                 75                 75                  0"
      ]
     },
     "execution_count": 16,
     "metadata": {},
     "output_type": "execute_result"
    }
   ],
   "source": [
    "# OJO sin print la información de muestra en una tabla\n",
    "# esto SOLO pasa en los jupyter notebooks\n",
    "\n",
    "df.loc[df[\"Hoja de trabajo 1\"] >= 61]"
   ]
  },
  {
   "cell_type": "markdown",
   "id": "8ddc40a9-c7e3-4fff-9416-f4a7c6f8aa81",
   "metadata": {},
   "source": [
    "También es posible filtar la información en el dataframe para limitar el resultado."
   ]
  },
  {
   "cell_type": "code",
   "execution_count": 19,
   "id": "a0fd26c8-d347-4ca1-815d-32dc25dca5ea",
   "metadata": {},
   "outputs": [
    {
     "name": "stdout",
     "output_type": "stream",
     "text": [
      "   Carnet  Hoja de trabajo 1  Hoja de trabajo 2  Hoja de trabajo 3\n",
      "0     123                 80                 90                 80\n",
      "1     456                 85                 90                 80\n",
      "4     654                100                100                 85\n",
      "\n",
      "--\n",
      "\n",
      "   Carnet  Hoja de trabajo 1\n",
      "0     123                 80\n",
      "1     456                 85\n",
      "4     654                100\n"
     ]
    }
   ],
   "source": [
    "distinguidos = df.loc[df[\"Hoja de trabajo 1\"] >= 80]\n",
    "\n",
    "print(distinguidos)\n",
    "\n",
    "print(\"\\n--\\n\")\n",
    "\n",
    "print(distinguidos[[\"Carnet\", \"Hoja de trabajo 1\"]])"
   ]
  },
  {
   "cell_type": "code",
   "execution_count": null,
   "id": "6ef71116-15a2-472b-b1dd-6ae772032507",
   "metadata": {},
   "outputs": [],
   "source": []
  }
 ],
 "metadata": {
  "kernelspec": {
   "display_name": "Python 3 (ipykernel)",
   "language": "python",
   "name": "python3"
  },
  "language_info": {
   "codemirror_mode": {
    "name": "ipython",
    "version": 3
   },
   "file_extension": ".py",
   "mimetype": "text/x-python",
   "name": "python",
   "nbconvert_exporter": "python",
   "pygments_lexer": "ipython3",
   "version": "3.12.2"
  }
 },
 "nbformat": 4,
 "nbformat_minor": 5
}
